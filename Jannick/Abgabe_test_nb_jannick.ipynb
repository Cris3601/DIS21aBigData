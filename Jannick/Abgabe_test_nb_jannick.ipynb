{
 "cells": [
  {
   "cell_type": "markdown",
   "id": "f7cfffec",
   "metadata": {},
   "source": [
    "### Strukture comes from Ex8"
   ]
  },
  {
   "cell_type": "markdown",
   "id": "7d1a2630",
   "metadata": {},
   "source": [
    "### To Do:\n",
    "- x- Validation ist noch nicht drin\n",
    "- validation data für benign und malignant ist nicht balanced"
   ]
  },
  {
   "cell_type": "markdown",
   "id": "f7d95c51",
   "metadata": {},
   "source": [
    "### Im Notebook:\n",
    "    - alle trainings images sind in ./data/original_train enhalten\n",
    "    - je nach Wunsch kann die Anzahl der training images angegeben werden, der Rest wird als validation data betrachtet\n",
    "    - Aufbau eines CNN (fast identisch) nach Ex8 ohne augmentation\n",
    "    - model wird abgespeichert\n",
    "    - Werte werden geplottet"
   ]
  },
  {
   "cell_type": "markdown",
   "id": "bc057a1b",
   "metadata": {},
   "source": [
    "### Hinweis:\n",
    "- einmal die auskommentierte Zelle einkommentieren und ausführen um den Ordner umzubenennen\n",
    "- danach wieder einkommentieren"
   ]
  },
  {
   "cell_type": "code",
   "execution_count": 25,
   "id": "b93d58b3",
   "metadata": {},
   "outputs": [
    {
     "data": {
      "text/plain": [
       "'2.9.0'"
      ]
     },
     "execution_count": 25,
     "metadata": {},
     "output_type": "execute_result"
    }
   ],
   "source": [
    "# all imports for the notebook\n",
    "import os, shutil\n",
    "\n",
    "import matplotlib.pyplot as plt\n",
    "\n",
    "import tensorflow\n",
    "from tensorflow.keras import models, layers, optimizers\n",
    "from tensorflow.keras.preprocessing.image import ImageDataGenerator\n",
    "\n",
    "tensorflow.keras.__version__"
   ]
  },
  {
   "cell_type": "code",
   "execution_count": null,
   "id": "822cf792",
   "metadata": {},
   "outputs": [],
   "source": [
    "# #### nur beim ersten mal ausführen, wenn die Ordnerstuktur noch nicht angepasst ist\n",
    "# # einmaliges umbenennen des train directory\n",
    "# train_dir_original = \"../data/original_train\"\n",
    "# train_dir = \"../data/train\"\n",
    "# os.rename(train_dir, train_dir_original)"
   ]
  },
  {
   "cell_type": "code",
   "execution_count": 50,
   "id": "e6f5c80b",
   "metadata": {
    "scrolled": true
   },
   "outputs": [
    {
     "name": "stdout",
     "output_type": "stream",
     "text": [
      "total original training benign images: 1440\n",
      "total original training malignant images: 1197\n",
      "--------------------------\n",
      "total training benign images: 0\n",
      "total training malignant images: 0\n",
      "--------------------------\n",
      "total validation benign images: 0\n",
      "total validation malignant images: 0\n",
      "--------------------------\n",
      "total testing benign images: 360\n",
      "total testing malignant images: 300\n"
     ]
    }
   ],
   "source": [
    "# create directory structure\n",
    "train_dir_original = \"../data/original_train\"\n",
    "train_dir_benign_original = \"../data/original_train/benign\"  \n",
    "train_dir_malignant_original = \"../data/original_train/malignant\"\n",
    "\n",
    "train_dir = \"../data/train\"\n",
    "train_dir_benign = \"../data/train/benign\"  \n",
    "train_dir_malignant = \"../data/train/malignant\"  \n",
    "\n",
    "validation_dir = \"../data/validation\"\n",
    "validation_dir_benign = \"../data/validation/benign\"  \n",
    "validation_dir_malignant = \"../data/validation/malignant\"\n",
    "\n",
    "test_dir = \"../data/test\"\n",
    "test_dir_benign = \"../data/test/benign\"  \n",
    "test_dir_malignant = \"../data/test/malignant\" \n",
    "\n",
    "\n",
    "# create train directory\n",
    "if not os.path.exists(train_dir):\n",
    "    os.mkdir(train_dir)\n",
    "    \n",
    "if not os.path.exists(train_dir_benign):\n",
    "    os.mkdir(train_dir_benign)\n",
    "\n",
    "if not os.path.exists(train_dir_malignant):\n",
    "    os.mkdir(train_dir_malignant)\n",
    "\n",
    "    \n",
    "# create validation directory\n",
    "if not os.path.exists(validation_dir):\n",
    "    os.mkdir(validation_dir)\n",
    "    \n",
    "if not os.path.exists(validation_dir_benign):\n",
    "    os.mkdir(validaton_dir_benign)\n",
    "\n",
    "if not os.path.exists(validation_dir_malignant):\n",
    "    os.mkdir(validaton_dir_malignant)\n",
    "    \n",
    "# print out current sample number of each directory\n",
    "print('total original training benign images:', len(os.listdir(train_dir_benign_original)))\n",
    "print('total original training malignant images:', len(os.listdir(train_dir_malignant_original)))\n",
    "print('--------------------------')\n",
    "print('total training benign images:', len(os.listdir(train_dir_benign)))\n",
    "print('total training malignant images:', len(os.listdir(train_dir_malignant)))\n",
    "print('--------------------------')\n",
    "print('total validation benign images:', len(os.listdir(validation_dir_benign)))\n",
    "print('total validation malignant images:', len(os.listdir(validation_dir_malignant)))\n",
    "print('--------------------------')\n",
    "print('total testing benign images:', len(os.listdir(test_dir_benign)))\n",
    "print('total testing malignant images:', len(os.listdir(test_dir_malignant)))"
   ]
  },
  {
   "cell_type": "code",
   "execution_count": 71,
   "id": "890f534f",
   "metadata": {},
   "outputs": [],
   "source": [
    "sample_numbers_benign = 800\n",
    "sample_numbers_malignant = 800\n",
    "\n",
    "\n",
    "counter = 0\n",
    "# validation samples are all left trainings data\n",
    "# x-validation is still not used\n",
    "\n",
    "###### copy validation data from original_train to validation ######\n",
    "### benign\n",
    "\n",
    "# delete old images\n",
    "filelist = [ f for f in os.listdir(train_dir_benign)]\n",
    "for f in filelist:\n",
    "    os.remove(os.path.join(train_dir_benign, f))\n",
    "\n",
    "# create new images\n",
    "fnames = ['{}.jpg'.format(i) for i in range(2500)] \n",
    "for fname in fnames:\n",
    "    \n",
    "    src = os.path.join(train_dir_benign_original, fname)\n",
    "    dst = os.path.join(train_dir_benign, fname)\n",
    "    \n",
    "    if os.path.exists(src):\n",
    "        shutil.copyfile(src, dst)\n",
    "        counter += 1\n",
    "        \n",
    "        if len(os.listdir(train_dir_benign)) == sample_numbers_benign:\n",
    "            break\n",
    "\n",
    "### malignant            \n",
    "# delete old images\n",
    "filelist = [ f for f in os.listdir(train_dir_malignant)]\n",
    "for f in filelist:\n",
    "    os.remove(os.path.join(train_dir_malignant, f))\n",
    "\n",
    "# create new images\n",
    "fnames = ['{}.jpg'.format(i) for i in range(2500)] \n",
    "for fname in fnames:\n",
    "    \n",
    "    src = os.path.join(train_dir_malignant_original, fname)\n",
    "    dst = os.path.join(train_dir_malignant, fname)\n",
    "    \n",
    "    if os.path.exists(src):\n",
    "        shutil.copyfile(src, dst)\n",
    "        \n",
    "        if len(os.listdir(train_dir_malignant)) == sample_numbers_malignant:\n",
    "            break\n",
    "\n",
    "\n",
    " #### copy validation data from original_train to validation ######\n",
    "\n",
    "### benign\n",
    "# delete old images\n",
    "filelist = [ f for f in os.listdir(validation_dir_benign)]\n",
    "for f in filelist:\n",
    "    os.remove(os.path.join(validation_dir_benign, f))\n",
    "    \n",
    "# create new images\n",
    "fnames = ['{}.jpg'.format(i) for i in range(counter, 2500)]\n",
    "for fname in fnames:\n",
    "    \n",
    "    src = os.path.join(train_dir_benign_original, fname)\n",
    "    dst = os.path.join(validation_dir_benign, fname)\n",
    "    \n",
    "    if os.path.exists(src):\n",
    "        shutil.copyfile(src, dst)\n",
    "\n",
    "    \n",
    "\n",
    "### malignant\n",
    "# delete old images\n",
    "filelist = [ f for f in os.listdir(validation_dir_malignant)]\n",
    "for f in filelist:\n",
    "    os.remove(os.path.join(validation_dir_malignant, f))\n",
    "    \n",
    "# create new images\n",
    "fnames = ['{}.jpg'.format(i) for i in range(counter, 2500)]\n",
    "for fname in fnames:\n",
    "    src = os.path.join(train_dir_malignant_original, fname)\n",
    "    dst = os.path.join(validation_dir_malignant, fname)\n",
    "    \n",
    "    if os.path.exists(src):\n",
    "        shutil.copyfile(src, dst)"
   ]
  },
  {
   "cell_type": "code",
   "execution_count": 72,
   "id": "be9900a6",
   "metadata": {},
   "outputs": [
    {
     "name": "stdout",
     "output_type": "stream",
     "text": [
      "total original training benign images: 1440\n",
      "total original training malignant images: 1197\n",
      "--------------------------\n",
      "total training benign images: 800\n",
      "total training malignant images: 800\n",
      "--------------------------\n",
      "total validation benign images: 802\n",
      "total validation malignant images: 555\n",
      "--------------------------\n",
      "total testing benign images: 360\n",
      "total testing malignant images: 300\n"
     ]
    }
   ],
   "source": [
    "# print out current sample number of each directory\n",
    "print('total original training benign images:', len(os.listdir(train_dir_benign_original)))\n",
    "print('total original training malignant images:', len(os.listdir(train_dir_malignant_original)))\n",
    "print('--------------------------')\n",
    "print('total training benign images:', len(os.listdir(train_dir_benign)))\n",
    "print('total training malignant images:', len(os.listdir(train_dir_malignant)))\n",
    "print('--------------------------')\n",
    "print('total validation benign images:', len(os.listdir(validation_dir_benign)))\n",
    "print('total validation malignant images:', len(os.listdir(validation_dir_malignant)))\n",
    "print('--------------------------')\n",
    "print('total testing benign images:', len(os.listdir(test_dir_benign)))\n",
    "print('total testing malignant images:', len(os.listdir(test_dir_malignant)))"
   ]
  },
  {
   "cell_type": "code",
   "execution_count": 73,
   "id": "c1de8418",
   "metadata": {},
   "outputs": [],
   "source": [
    "# building the CNN for baseline computation\n",
    "\n",
    "model = models.Sequential()\n",
    "model.add(layers.Conv2D(32, (3, 3), activation='relu',input_shape=(150, 150, 3)))\n",
    "\n",
    "model.add(layers.MaxPooling2D((2, 2)))\n",
    "model.add(layers.Conv2D(64, (3, 3), activation='relu'))\n",
    "model.add(layers.MaxPooling2D((2, 2)))\n",
    "model.add(layers.Conv2D(128, (3, 3), activation='relu'))\n",
    "model.add(layers.MaxPooling2D((2, 2)))\n",
    "model.add(layers.Conv2D(128, (3, 3), activation='relu'))\n",
    "model.add(layers.MaxPooling2D((2, 2)))\n",
    "\n",
    "model.add(layers.Flatten())\n",
    "model.add(layers.Dense(512, activation='relu'))\n",
    "model.add(layers.Dense(1, activation='sigmoid'))\n",
    "\n",
    "# model.summary()\n",
    "\n",
    "model.compile(loss='binary_crossentropy', optimizer=\"rmsprop\", metrics=['acc']) # optimizers.RMSprop(lr=1e-4) Unterschied!?"
   ]
  },
  {
   "cell_type": "code",
   "execution_count": 74,
   "id": "cc1d15b9",
   "metadata": {},
   "outputs": [
    {
     "name": "stdout",
     "output_type": "stream",
     "text": [
      "Found 1600 images belonging to 2 classes.\n",
      "Found 1357 images belonging to 2 classes.\n"
     ]
    }
   ],
   "source": [
    "# data preperation\n",
    "\n",
    "train_datagen = ImageDataGenerator(rescale=1.0/255)\n",
    "validation_datagen = ImageDataGenerator(rescale=1.0/255)  \n",
    "\n",
    "training_generator = train_datagen.flow_from_directory(\n",
    "        # This is the target directory\n",
    "        train_dir,\n",
    "        # All images will be resized to 150x150\n",
    "        target_size=(150, 150),\n",
    "        batch_size=20,\n",
    "        # Since binary_crossentropy loss is used, binary labels are needed\n",
    "        class_mode='binary')\n",
    "\n",
    "\n",
    "validation_generator = validation_datagen.flow_from_directory(\n",
    "        validation_dir,\n",
    "        target_size=(150, 150),\n",
    "        batch_size=20,\n",
    "        class_mode='binary')"
   ]
  },
  {
   "cell_type": "code",
   "execution_count": 65,
   "id": "df9d5ffa",
   "metadata": {},
   "outputs": [
    {
     "name": "stdout",
     "output_type": "stream",
     "text": [
      "This is the shape of the training data batch: (20, 150, 150, 3)\n",
      "This is the shape of the training label batch: (20,)\n"
     ]
    }
   ],
   "source": [
    "# look at the output of the training generator\n",
    "for data_batch, labels_batch in training_generator:\n",
    "    print('This is the shape of the training data batch:', data_batch.shape)\n",
    "    print('This is the shape of the training label batch:', labels_batch.shape)\n",
    "    break"
   ]
  },
  {
   "cell_type": "code",
   "execution_count": 75,
   "id": "1e3d171e",
   "metadata": {},
   "outputs": [
    {
     "name": "stdout",
     "output_type": "stream",
     "text": [
      "Epoch 1/5\n",
      "10/10 [==============================] - 5s 508ms/step - loss: 1.3756 - acc: 0.4950 - val_loss: 0.6713 - val_acc: 0.5910\n",
      "Epoch 2/5\n",
      "10/10 [==============================] - 5s 485ms/step - loss: 0.7199 - acc: 0.5150 - val_loss: 0.7133 - val_acc: 0.4140\n",
      "Epoch 3/5\n",
      "10/10 [==============================] - 5s 499ms/step - loss: 0.7037 - acc: 0.5300 - val_loss: 0.7250 - val_acc: 0.3900\n",
      "Epoch 4/5\n",
      "10/10 [==============================] - 5s 492ms/step - loss: 0.7079 - acc: 0.5150 - val_loss: 0.6853 - val_acc: 0.7290\n",
      "Epoch 5/5\n",
      "10/10 [==============================] - 6s 599ms/step - loss: 0.8027 - acc: 0.5550 - val_loss: 0.7480 - val_acc: 0.5910\n"
     ]
    }
   ],
   "source": [
    "history = model.fit(training_generator, \n",
    "                    steps_per_epoch=10, \n",
    "                    epochs=5, \n",
    "                    validation_data=validation_generator, \n",
    "                    validation_steps=50  # bei 50 kam ein error das nicht genügend samples da waren oder so\n",
    "                   )\n",
    "\n",
    "model.save('benign_malignant_classification_CNN_baseline.h5')"
   ]
  },
  {
   "cell_type": "code",
   "execution_count": 76,
   "id": "07a9d52d",
   "metadata": {},
   "outputs": [
    {
     "data": {
      "image/png": "[encoded data removed]",
      "text/plain": [
       "<Figure size 640x480 with 1 Axes>"
      ]
     },
     "metadata": {},
     "output_type": "display_data"
    },
    {
     "data": {
      "image/png": "[encoded data removed]",
      "text/plain": [
       "<Figure size 640x480 with 1 Axes>"
      ]
     },
     "metadata": {},
     "output_type": "display_data"
    }
   ],
   "source": [
    "acc = history.history['acc']\n",
    "val_acc = history.history['val_acc']\n",
    "loss = history.history['loss']\n",
    "val_loss = history.history['val_loss']\n",
    "\n",
    "epochs = range(len(acc))\n",
    "\n",
    "plt.plot(epochs, acc, 'bo', label='Training acc')\n",
    "plt.plot(epochs, val_acc, 'b', label='Validation acc')\n",
    "plt.title('Training and validation accuracy')\n",
    "plt.legend()\n",
    "\n",
    "plt.figure()\n",
    "\n",
    "plt.plot(epochs, loss, 'bo', label='Training loss')\n",
    "plt.plot(epochs, val_loss, 'b', label='Validation loss')\n",
    "plt.title('Training and validation loss')\n",
    "plt.legend()\n",
    "\n",
    "plt.show()"
   ]
  },
  {
   "cell_type": "code",
   "execution_count": null,
   "id": "f214c865",
   "metadata": {},
   "outputs": [],
   "source": [
    "# nach zu tun: data augmentation einbauen"
   ]
  }
 ],
 "metadata": {
  "kernelspec": {
   "display_name": "Python 3 (ipykernel)",
   "language": "python",
   "name": "python3"
  },
  "language_info": {
   "codemirror_mode": {
    "name": "ipython",
    "version": 3
   },
   "file_extension": ".py",
   "mimetype": "text/x-python",
   "name": "python",
   "nbconvert_exporter": "python",
   "pygments_lexer": "ipython3",
   "version": "3.7.15"
  }
 },
 "nbformat": 4,
 "nbformat_minor": 5
}
