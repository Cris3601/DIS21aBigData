{
 "cells": [
  {
   "cell_type": "markdown",
   "metadata": {},
   "source": [
    "data: <br>\n",
    "test.benign: 360 <br>\n",
    "test.malignant: 300 <br>\n",
    "train.benign: 1440 <br>\n",
    "train.malignant: 1197 <br>\n",
    "total.benign: 1800 <br>\n",
    "total.malignant: 1497 <br>"
   ]
  },
  {
   "cell_type": "markdown",
   "metadata": {},
   "source": [
    "train b1000 m1000\n",
    "validation b250 m250\n",
    "test b247 m247"
   ]
  },
  {
   "cell_type": "code",
   "execution_count": 1,
   "metadata": {},
   "outputs": [],
   "source": [
    "import os, shutil"
   ]
  },
  {
   "cell_type": "code",
   "execution_count": 8,
   "metadata": {},
   "outputs": [],
   "source": [
    "path = '../data/big/benign'\n",
    "for file in os.listdir(path):\n",
    "    new = 'benign.' + file\n",
    "    os.rename(os.path.join(path, file), os.path.join(path, new))"
   ]
  },
  {
   "cell_type": "code",
   "execution_count": 9,
   "metadata": {},
   "outputs": [],
   "source": [
    "path = '../data/big/malignant'\n",
    "for file in os.listdir(path):\n",
    "    new = 'malignant.' + file\n",
    "    os.rename(os.path.join(path, file), os.path.join(path, new))"
   ]
  },
  {
   "cell_type": "code",
   "execution_count": 2,
   "metadata": {},
   "outputs": [
    {
     "name": "stdout",
     "output_type": "stream",
     "text": [
      "train_dir= ../data/idea1\\train\n",
      "validation_dir= ../data/idea1\\validation\n",
      "test_dir= ../data/idea1\\test\n"
     ]
    }
   ],
   "source": [
    "# The path to the directory where the original\n",
    "# dataset is uncompressed\n",
    "original_dataset_dir = '../data/big'\n",
    "\n",
    "# The directory where to\n",
    "# store the smaller dataset\n",
    "base_dir = '../data/idea1'\n",
    "if not os.path.exists(base_dir):\n",
    "    os.mkdir(base_dir)\n",
    "\n",
    "# Create the directories for the \n",
    "# training partition\n",
    "train_dir = os.path.join(base_dir, 'train')\n",
    "if not os.path.exists(train_dir):\n",
    "    os.mkdir(train_dir)\n",
    "    \n",
    "# validation partition\n",
    "validation_dir = os.path.join(base_dir, 'validation')\n",
    "if not os.path.exists(validation_dir):\n",
    "    os.mkdir(validation_dir)\n",
    "\n",
    "# test partition\n",
    "test_dir = os.path.join(base_dir, 'test')\n",
    "if not os.path.exists(test_dir):\n",
    "    os.mkdir(test_dir)\n",
    "\n",
    "print(\"train_dir=\",train_dir)\n",
    "print(\"validation_dir=\",validation_dir)\n",
    "print(\"test_dir=\",test_dir)"
   ]
  },
  {
   "cell_type": "code",
   "execution_count": 3,
   "metadata": {},
   "outputs": [],
   "source": [
    "# Directory with the training benign pictures\n",
    "train_benign_dir = os.path.join(train_dir, 'benign')\n",
    "if not os.path.exists(train_benign_dir):\n",
    "    os.mkdir(train_benign_dir)\n",
    "\n",
    "# Directory with the training dog pictures\n",
    "train_malignant_dir = os.path.join(train_dir, 'malignant')\n",
    "if not os.path.exists(train_malignant_dir):\n",
    "    os.mkdir(train_malignant_dir)\n",
    "\n",
    "# Directory with the validation benign pictures\n",
    "validation_benign_dir = os.path.join(validation_dir, 'benign')\n",
    "if not os.path.exists(validation_benign_dir):\n",
    "    os.mkdir(validation_benign_dir)\n",
    "\n",
    "# Directory with the validation dog pictures\n",
    "validation_malignant_dir = os.path.join(validation_dir, 'malignant')\n",
    "if not os.path.exists(validation_malignant_dir):\n",
    "    os.mkdir(validation_malignant_dir)\n",
    "\n",
    "# Directory with the test benign pictures\n",
    "test_benign_dir = os.path.join(test_dir, 'benign')\n",
    "if not os.path.exists(test_benign_dir):\n",
    "    os.mkdir(test_benign_dir)\n",
    "\n",
    "# Directory with the test dog pictures\n",
    "test_malignant_dir = os.path.join(test_dir, 'malignant')\n",
    "if not os.path.exists(test_malignant_dir):\n",
    "    os.mkdir(test_malignant_dir)"
   ]
  },
  {
   "cell_type": "code",
   "execution_count": 19,
   "metadata": {},
   "outputs": [],
   "source": [
    "# Copy first 1000 benign images to train_benigns_dir\n",
    "fnames = ['benign.{}.jpg'.format(i) for i in range(1,1000)]\n",
    "for fname in fnames:\n",
    "    src = os.path.join(original_dataset_dir, fname)\n",
    "    dst = os.path.join(train_benign_dir, fname)\n",
    "    shutil.copyfile(src, dst)\n",
    "\n",
    "# Copy NEXT 250 benign images to validation_benigns_dir\n",
    "fnames = ['benign.{}.jpg'.format(i) for i in range(1000, 1250)]\n",
    "for fname in fnames:\n",
    "    src = os.path.join(original_dataset_dir, fname)\n",
    "    dst = os.path.join(validation_benign_dir, fname)\n",
    "    shutil.copyfile(src, dst)\n",
    "    \n",
    "# Copy NEXT 250 benign images to test_benign_dir\n",
    "fnames = ['benign.{}.jpg'.format(i) for i in range(1250, 1500)]\n",
    "for fname in fnames:\n",
    "    src = os.path.join(original_dataset_dir, fname)\n",
    "    dst = os.path.join(test_benign_dir, fname)\n",
    "    shutil.copyfile(src, dst)\n",
    "    \n",
    "# Copy first 1000 malignant images to train_malignant_dir\n",
    "fnames = ['malignant.{}.jpg'.format(i) for i in range(1,1000)]\n",
    "for fname in fnames:\n",
    "    try: \n",
    "        src = os.path.join(original_dataset_dir, fname)\n",
    "        dst = os.path.join(train_malignant_dir, fname)\n",
    "        shutil.copyfile(src, dst)\n",
    "    except:\n",
    "        pass\n",
    "    \n",
    "# Copy next 500 malignant images to validation_malignant_dir\n",
    "fnames = ['malignant.{}.jpg'.format(i) for i in range(1000, 1250)]\n",
    "for fname in fnames:\n",
    "    src = os.path.join(original_dataset_dir, fname)\n",
    "    dst = os.path.join(validation_malignant_dir, fname)\n",
    "    shutil.copyfile(src, dst)\n",
    "    \n",
    "# Copy next 500 malignant images to test_malignant_dir\n",
    "fnames = ['malignant.{}.jpg'.format(i) for i in range(1250, 1500)]\n",
    "for fname in fnames:\n",
    "    src = os.path.join(original_dataset_dir, fname)\n",
    "    dst = os.path.join(test_malignant_dir, fname)\n",
    "    shutil.copyfile(src, dst)"
   ]
  },
  {
   "cell_type": "code",
   "execution_count": 15,
   "metadata": {},
   "outputs": [],
   "source": [
    "from tensorflow.keras import layers\n",
    "from tensorflow.keras import models\n",
    "\n",
    "model = models.Sequential()\n",
    "model.add(layers.Conv2D(32, (3, 3), activation='relu',input_shape=(224, 224, 3)))\n",
    "\n",
    "model.add(layers.MaxPooling2D((2, 2)))\n",
    "model.add(layers.Conv2D(64, (3, 3), activation='relu'))\n",
    "model.add(layers.MaxPooling2D((2, 2)))\n",
    "model.add(layers.Conv2D(128, (3, 3), activation='relu'))\n",
    "model.add(layers.MaxPooling2D((2, 2)))\n",
    "model.add(layers.Conv2D(128, (3, 3), activation='relu'))\n",
    "model.add(layers.MaxPooling2D((2, 2)))\n",
    "\n",
    "model.add(layers.Flatten())\n",
    "model.add(layers.Dense(512, activation='relu'))\n",
    "model.add(layers.Dense(1, activation='sigmoid'))"
   ]
  },
  {
   "cell_type": "code",
   "execution_count": 16,
   "metadata": {},
   "outputs": [
    {
     "name": "stderr",
     "output_type": "stream",
     "text": [
      "D:\\Uni\\DIS06\\anaconda3\\lib\\site-packages\\keras\\optimizers\\optimizer_v2\\rmsprop.py:140: UserWarning: The `lr` argument is deprecated, use `learning_rate` instead.\n",
      "  super().__init__(name, **kwargs)\n"
     ]
    }
   ],
   "source": [
    "from tensorflow.keras import optimizers\n",
    "\n",
    "model.compile(loss='binary_crossentropy',\n",
    "              optimizer=optimizers.RMSprop(lr=1e-5),\n",
    "              metrics=['acc'])"
   ]
  },
  {
   "cell_type": "code",
   "execution_count": 17,
   "metadata": {},
   "outputs": [
    {
     "name": "stdout",
     "output_type": "stream",
     "text": [
      "Found 1995 images belonging to 2 classes.\n",
      "Found 500 images belonging to 2 classes.\n"
     ]
    }
   ],
   "source": [
    "from tensorflow.keras.preprocessing.image import ImageDataGenerator\n",
    "\n",
    "# All images will be [0,1] standardized\n",
    "train_datagen = ImageDataGenerator(rescale=1.0/255)\n",
    "valid_datagen = ImageDataGenerator(rescale=1.0/255)\n",
    "\n",
    "training_generator = train_datagen.flow_from_directory(\n",
    "        # This is the target directory\n",
    "        train_dir,\n",
    "        # All images will be resized to 150x150\n",
    "        target_size=(224, 224),\n",
    "        batch_size=20,\n",
    "        # Since binary_crossentropy loss is used, binary labels are needed\n",
    "        class_mode='binary')\n",
    "\n",
    "validation_generator = valid_datagen.flow_from_directory(\n",
    "        validation_dir,\n",
    "        target_size=(224, 224),\n",
    "        batch_size=20,\n",
    "        class_mode='binary')"
   ]
  },
  {
   "cell_type": "code",
   "execution_count": 18,
   "metadata": {},
   "outputs": [
    {
     "name": "stdout",
     "output_type": "stream",
     "text": [
      "Epoch 1/30\n",
      "10/10 [==============================] - 10s 977ms/step - loss: 0.6936 - acc: 0.5250 - val_loss: 0.6858 - val_acc: 0.5900\n",
      "Epoch 2/30\n",
      "10/10 [==============================] - 9s 949ms/step - loss: 0.6878 - acc: 0.5550 - val_loss: 0.6812 - val_acc: 0.6900\n",
      "Epoch 3/30\n",
      "10/10 [==============================] - 9s 965ms/step - loss: 0.6737 - acc: 0.6950 - val_loss: 0.6790 - val_acc: 0.5000\n",
      "Epoch 4/30\n",
      "10/10 [==============================] - 9s 925ms/step - loss: 0.6652 - acc: 0.6100 - val_loss: 0.6751 - val_acc: 0.5000\n",
      "Epoch 5/30\n",
      "10/10 [==============================] - 9s 926ms/step - loss: 0.6544 - acc: 0.5600 - val_loss: 0.6644 - val_acc: 0.4920\n",
      "Epoch 6/30\n",
      "10/10 [==============================] - 9s 963ms/step - loss: 0.6517 - acc: 0.6359 - val_loss: 0.6559 - val_acc: 0.7380\n",
      "Epoch 7/30\n",
      "10/10 [==============================] - 10s 999ms/step - loss: 0.6493 - acc: 0.6800 - val_loss: 0.6487 - val_acc: 0.5740\n",
      "Epoch 8/30\n",
      "10/10 [==============================] - 9s 949ms/step - loss: 0.6425 - acc: 0.6872 - val_loss: 0.6403 - val_acc: 0.6540\n",
      "Epoch 9/30\n",
      "10/10 [==============================] - 9s 924ms/step - loss: 0.6370 - acc: 0.6700 - val_loss: 0.6345 - val_acc: 0.7080\n",
      "Epoch 10/30\n",
      "10/10 [==============================] - 9s 918ms/step - loss: 0.6322 - acc: 0.7250 - val_loss: 0.6319 - val_acc: 0.7600\n",
      "Epoch 11/30\n",
      "10/10 [==============================] - 9s 928ms/step - loss: 0.6389 - acc: 0.6650 - val_loss: 0.6262 - val_acc: 0.6640\n",
      "Epoch 12/30\n",
      "10/10 [==============================] - 9s 917ms/step - loss: 0.6173 - acc: 0.7200 - val_loss: 0.6219 - val_acc: 0.6480\n",
      "Epoch 13/30\n",
      "10/10 [==============================] - 9s 916ms/step - loss: 0.6368 - acc: 0.6150 - val_loss: 0.6285 - val_acc: 0.5640\n",
      "Epoch 14/30\n",
      "10/10 [==============================] - 9s 915ms/step - loss: 0.5973 - acc: 0.6900 - val_loss: 0.6127 - val_acc: 0.7140\n",
      "Epoch 15/30\n",
      "10/10 [==============================] - 9s 908ms/step - loss: 0.5842 - acc: 0.7128 - val_loss: 0.6123 - val_acc: 0.6180\n",
      "Epoch 16/30\n",
      "10/10 [==============================] - 9s 926ms/step - loss: 0.5560 - acc: 0.7950 - val_loss: 0.6001 - val_acc: 0.7240\n",
      "Epoch 17/30\n",
      "10/10 [==============================] - 10s 1s/step - loss: 0.5695 - acc: 0.7350 - val_loss: 0.5956 - val_acc: 0.7460\n",
      "Epoch 18/30\n",
      "10/10 [==============================] - 9s 948ms/step - loss: 0.5643 - acc: 0.7400 - val_loss: 0.5960 - val_acc: 0.7620\n",
      "Epoch 19/30\n",
      "10/10 [==============================] - 9s 922ms/step - loss: 0.5885 - acc: 0.7200 - val_loss: 0.5920 - val_acc: 0.7120\n",
      "Epoch 20/30\n",
      "10/10 [==============================] - 9s 927ms/step - loss: 0.5217 - acc: 0.7900 - val_loss: 0.5852 - val_acc: 0.7200\n",
      "Epoch 21/30\n",
      "10/10 [==============================] - 9s 920ms/step - loss: 0.5659 - acc: 0.7200 - val_loss: 0.6053 - val_acc: 0.5760\n",
      "Epoch 22/30\n",
      "10/10 [==============================] - 9s 934ms/step - loss: 0.5099 - acc: 0.7850 - val_loss: 0.5908 - val_acc: 0.6260\n",
      "Epoch 23/30\n",
      "10/10 [==============================] - 9s 937ms/step - loss: 0.5708 - acc: 0.7300 - val_loss: 0.5778 - val_acc: 0.7240\n",
      "Epoch 24/30\n",
      "10/10 [==============================] - 9s 927ms/step - loss: 0.5458 - acc: 0.7250 - val_loss: 0.6396 - val_acc: 0.5080\n",
      "Epoch 25/30\n",
      "10/10 [==============================] - 9s 921ms/step - loss: 0.5878 - acc: 0.6700 - val_loss: 0.5769 - val_acc: 0.7600\n",
      "Epoch 26/30\n",
      "10/10 [==============================] - 9s 921ms/step - loss: 0.4776 - acc: 0.8250 - val_loss: 0.5691 - val_acc: 0.7280\n",
      "Epoch 27/30\n",
      "10/10 [==============================] - 9s 932ms/step - loss: 0.5146 - acc: 0.7750 - val_loss: 0.5644 - val_acc: 0.7360\n",
      "Epoch 28/30\n",
      "10/10 [==============================] - 9s 924ms/step - loss: 0.4785 - acc: 0.7750 - val_loss: 0.5610 - val_acc: 0.7360\n",
      "Epoch 29/30\n",
      "10/10 [==============================] - 9s 917ms/step - loss: 0.4747 - acc: 0.7750 - val_loss: 0.6004 - val_acc: 0.5700\n",
      "Epoch 30/30\n",
      "10/10 [==============================] - 9s 926ms/step - loss: 0.4831 - acc: 0.7650 - val_loss: 0.5676 - val_acc: 0.6660\n",
      "Wall time: 4min 33s\n"
     ]
    }
   ],
   "source": [
    "%%time\n",
    "history = model.fit(\n",
    "            training_generator,\n",
    "            steps_per_epoch=10,\n",
    "            epochs=30,\n",
    "            validation_data=validation_generator,\n",
    "            validation_steps=25)"
   ]
  },
  {
   "cell_type": "code",
   "execution_count": 19,
   "metadata": {},
   "outputs": [
    {
     "data": {
      "image/png": "[encoded data removed]",
      "text/plain": [
       "<Figure size 432x288 with 1 Axes>"
      ]
     },
     "metadata": {
      "needs_background": "light"
     },
     "output_type": "display_data"
    },
    {
     "data": {
      "image/png": "[encoded data removed]",
      "text/plain": [
       "<Figure size 432x288 with 1 Axes>"
      ]
     },
     "metadata": {
      "needs_background": "light"
     },
     "output_type": "display_data"
    }
   ],
   "source": [
    "import matplotlib.pyplot as plt\n",
    "\n",
    "acc = history.history['acc']\n",
    "val_acc = history.history['val_acc']\n",
    "loss = history.history['loss']\n",
    "val_loss = history.history['val_loss']\n",
    "\n",
    "epochs = range(len(acc))\n",
    "\n",
    "plt.plot(epochs, acc, 'bo', label='Training acc')\n",
    "plt.plot(epochs, val_acc, 'b', label='Validation acc')\n",
    "plt.title('Training and validation accuracy')\n",
    "plt.legend()\n",
    "\n",
    "plt.figure()\n",
    "\n",
    "plt.plot(epochs, loss, 'bo', label='Training loss')\n",
    "plt.plot(epochs, val_loss, 'b', label='Validation loss')\n",
    "plt.title('Training and validation loss')\n",
    "plt.legend()\n",
    "\n",
    "plt.show()"
   ]
  },
  {
   "cell_type": "code",
   "execution_count": 24,
   "metadata": {},
   "outputs": [],
   "source": [
    "from tensorflow.keras import losses\n",
    "from tensorflow.keras import metrics\n",
    "from tensorflow.keras import layers\n",
    "from tensorflow.keras import models\n",
    "from tensorflow.keras import optimizers\n",
    "\n",
    "model = models.Sequential()\n",
    "\n",
    "model.add(layers.Conv2D(32, (3, 3), activation='relu', input_shape=(224, 224, 3)))\n",
    "model.add(layers.MaxPooling2D((2, 2)))\n",
    "\n",
    "model.add(layers.Conv2D(64, (3, 3), activation='relu'))\n",
    "model.add(layers.MaxPooling2D((2, 2)))\n",
    "\n",
    "model.add(layers.Conv2D(128, (3, 3), activation='relu'))\n",
    "model.add(layers.MaxPooling2D((2, 2)))\n",
    "\n",
    "model.add(layers.Conv2D(128, (3, 3), activation='relu'))\n",
    "model.add(layers.MaxPooling2D((2, 2)))\n",
    "\n",
    "model.add(layers.Flatten())\n",
    "model.add(layers.Dropout(0.7)) # NOTE: dropout is used as well before the FC-layer starts\n",
    "model.add(layers.Dense(512, activation='relu'))\n",
    "model.add(layers.Dense(1, activation='sigmoid'))\n",
    "\n",
    "model.compile(loss='binary_crossentropy',\n",
    "              optimizer=optimizers.RMSprop(lr=1e-5),\n",
    "              metrics=['acc'])"
   ]
  },
  {
   "cell_type": "code",
   "execution_count": 25,
   "metadata": {},
   "outputs": [
    {
     "name": "stdout",
     "output_type": "stream",
     "text": [
      "Found 1995 images belonging to 2 classes.\n",
      "Found 500 images belonging to 2 classes.\n",
      "train_dir= ../data/idea1\\train\n",
      "validation_dir= ../data/idea1\\validation\n",
      "Epoch 1/30\n",
      "30/30 [==============================] - 23s 745ms/step - loss: 0.6915 - acc: 0.5193 - val_loss: 0.6883 - val_acc: 0.5020\n",
      "Epoch 2/30\n",
      "30/30 [==============================] - 21s 694ms/step - loss: 0.6894 - acc: 0.5333 - val_loss: 0.6824 - val_acc: 0.5560\n",
      "Epoch 3/30\n",
      "30/30 [==============================] - 22s 742ms/step - loss: 0.6740 - acc: 0.6333 - val_loss: 0.6725 - val_acc: 0.6600\n",
      "Epoch 4/30\n",
      "30/30 [==============================] - 21s 701ms/step - loss: 0.6641 - acc: 0.6317 - val_loss: 0.6676 - val_acc: 0.4780\n",
      "Epoch 5/30\n",
      "30/30 [==============================] - 21s 711ms/step - loss: 0.6547 - acc: 0.6336 - val_loss: 0.6484 - val_acc: 0.7300\n",
      "Epoch 6/30\n",
      "30/30 [==============================] - 21s 703ms/step - loss: 0.6268 - acc: 0.7210 - val_loss: 0.6346 - val_acc: 0.6060\n",
      "Epoch 7/30\n",
      "30/30 [==============================] - 21s 710ms/step - loss: 0.6172 - acc: 0.7050 - val_loss: 0.6137 - val_acc: 0.7260\n",
      "Epoch 8/30\n",
      "30/30 [==============================] - 21s 708ms/step - loss: 0.5919 - acc: 0.7183 - val_loss: 0.6002 - val_acc: 0.7040\n",
      "Epoch 9/30\n",
      "30/30 [==============================] - 22s 723ms/step - loss: 0.5611 - acc: 0.7300 - val_loss: 0.5842 - val_acc: 0.7400\n",
      "Epoch 10/30\n",
      "30/30 [==============================] - 21s 707ms/step - loss: 0.5435 - acc: 0.7417 - val_loss: 0.5890 - val_acc: 0.6600\n",
      "Epoch 11/30\n",
      "30/30 [==============================] - 22s 723ms/step - loss: 0.5447 - acc: 0.7300 - val_loss: 0.5864 - val_acc: 0.6640\n",
      "Epoch 12/30\n",
      "30/30 [==============================] - 21s 701ms/step - loss: 0.5142 - acc: 0.7483 - val_loss: 0.5802 - val_acc: 0.6720\n",
      "Epoch 13/30\n",
      "30/30 [==============================] - 22s 722ms/step - loss: 0.5136 - acc: 0.7400 - val_loss: 0.5757 - val_acc: 0.6800\n",
      "Epoch 14/30\n",
      "30/30 [==============================] - 21s 710ms/step - loss: 0.4841 - acc: 0.7700 - val_loss: 0.5606 - val_acc: 0.7480\n",
      "Epoch 15/30\n",
      "30/30 [==============================] - 22s 720ms/step - loss: 0.4549 - acc: 0.7950 - val_loss: 0.5982 - val_acc: 0.6220\n",
      "Epoch 16/30\n",
      "30/30 [==============================] - 22s 731ms/step - loss: 0.4491 - acc: 0.7983 - val_loss: 0.5807 - val_acc: 0.6700\n",
      "Epoch 17/30\n",
      "30/30 [==============================] - 22s 738ms/step - loss: 0.4365 - acc: 0.7967 - val_loss: 0.5676 - val_acc: 0.7080\n",
      "Epoch 18/30\n",
      "30/30 [==============================] - 22s 740ms/step - loss: 0.4254 - acc: 0.8167 - val_loss: 0.6468 - val_acc: 0.5940\n",
      "Epoch 19/30\n",
      "30/30 [==============================] - 22s 721ms/step - loss: 0.4571 - acc: 0.7866 - val_loss: 0.6362 - val_acc: 0.6120\n",
      "Epoch 20/30\n",
      "30/30 [==============================] - 21s 704ms/step - loss: 0.4321 - acc: 0.8017 - val_loss: 0.6195 - val_acc: 0.6400\n",
      "Epoch 21/30\n",
      "30/30 [==============================] - 21s 702ms/step - loss: 0.4536 - acc: 0.7798 - val_loss: 0.6089 - val_acc: 0.6520\n",
      "Epoch 22/30\n",
      "30/30 [==============================] - 22s 716ms/step - loss: 0.3949 - acc: 0.8483 - val_loss: 0.6135 - val_acc: 0.6600\n",
      "Epoch 23/30\n",
      "30/30 [==============================] - 21s 706ms/step - loss: 0.4394 - acc: 0.8150 - val_loss: 0.5862 - val_acc: 0.6920\n",
      "Epoch 24/30\n",
      "30/30 [==============================] - 22s 715ms/step - loss: 0.3800 - acc: 0.8400 - val_loss: 0.7324 - val_acc: 0.5660\n",
      "Epoch 25/30\n",
      "30/30 [==============================] - 21s 706ms/step - loss: 0.3852 - acc: 0.8269 - val_loss: 0.5882 - val_acc: 0.6960\n",
      "Epoch 26/30\n",
      "30/30 [==============================] - 21s 702ms/step - loss: 0.4357 - acc: 0.8083 - val_loss: 0.6724 - val_acc: 0.6220\n",
      "Epoch 27/30\n",
      "30/30 [==============================] - 22s 712ms/step - loss: 0.3970 - acc: 0.8350 - val_loss: 0.7930 - val_acc: 0.5500\n",
      "Epoch 28/30\n",
      "30/30 [==============================] - 21s 710ms/step - loss: 0.4032 - acc: 0.8303 - val_loss: 0.5909 - val_acc: 0.7040\n",
      "Epoch 29/30\n",
      "30/30 [==============================] - 22s 719ms/step - loss: 0.4079 - acc: 0.8233 - val_loss: 0.6475 - val_acc: 0.6360\n",
      "Epoch 30/30\n",
      "30/30 [==============================] - 21s 699ms/step - loss: 0.4078 - acc: 0.8286 - val_loss: 0.6923 - val_acc: 0.6220\n",
      "Wall time: 10min 47s\n"
     ]
    }
   ],
   "source": [
    "%%time\n",
    "from tensorflow.keras.preprocessing.image import ImageDataGenerator\n",
    "train_datagen = ImageDataGenerator(\n",
    "    rescale=1./255,\n",
    "    rotation_range=40,\n",
    "    width_shift_range=0.2,\n",
    "    height_shift_range=0.2,\n",
    "    shear_range=0.2,\n",
    "    zoom_range=0.2,\n",
    "    horizontal_flip=True,)\n",
    "\n",
    "# Note that the validation data should not be augmented!\n",
    "test_datagen = ImageDataGenerator(rescale=1./255)\n",
    "\n",
    "train_generator = train_datagen.flow_from_directory(\n",
    "        # This is the target directory\n",
    "        train_dir,\n",
    "        # All images will be resized to 150x150\n",
    "        target_size=(224, 224),\n",
    "        batch_size=20,\n",
    "        # Since binary_crossentropy loss is used, binary labels are needed\n",
    "        class_mode='binary')\n",
    "\n",
    "validation_generator = test_datagen.flow_from_directory(\n",
    "        validation_dir,\n",
    "        target_size=(224, 224),\n",
    "        batch_size=20,\n",
    "        class_mode='binary')\n",
    "\n",
    "print(\"train_dir=\",train_dir)\n",
    "print(\"validation_dir=\",validation_dir)\n",
    "\n",
    "history = model.fit(\n",
    "      train_generator,\n",
    "      steps_per_epoch=30, \n",
    "      epochs=30,\n",
    "      validation_data=validation_generator,\n",
    "      validation_steps=25)"
   ]
  },
  {
   "cell_type": "code",
   "execution_count": 26,
   "metadata": {},
   "outputs": [
    {
     "data": {
      "image/png": "[encoded data removed]",
      "text/plain": [
       "<Figure size 432x288 with 1 Axes>"
      ]
     },
     "metadata": {
      "needs_background": "light"
     },
     "output_type": "display_data"
    },
    {
     "data": {
      "image/png": "[encoded data removed]",
      "text/plain": [
       "<Figure size 432x288 with 1 Axes>"
      ]
     },
     "metadata": {
      "needs_background": "light"
     },
     "output_type": "display_data"
    }
   ],
   "source": [
    "import matplotlib.pyplot as plt\n",
    "\n",
    "acc = history.history['acc']\n",
    "val_acc = history.history['val_acc']\n",
    "loss = history.history['loss']\n",
    "val_loss = history.history['val_loss']\n",
    "\n",
    "epochs = range(len(acc))\n",
    "\n",
    "plt.plot(epochs, acc, 'bo', label='Training acc')\n",
    "plt.plot(epochs, val_acc, 'b', label='Validation acc')\n",
    "plt.ylim((0.5,0.9))\n",
    "plt.title('Training and validation accuracy using data augmentation')\n",
    "plt.legend()\n",
    "\n",
    "plt.figure()\n",
    "\n",
    "plt.plot(epochs, loss, 'bo', label='Training loss')\n",
    "plt.plot(epochs, val_loss, 'b', label='Validation loss')\n",
    "plt.ylim((0.2,0.9))\n",
    "plt.title('Training and validation loss using data augmentation')\n",
    "plt.legend()\n",
    "\n",
    "plt.show()"
   ]
  },
  {
   "cell_type": "code",
   "execution_count": null,
   "metadata": {},
   "outputs": [],
   "source": []
  }
 ],
 "metadata": {
  "kernelspec": {
   "display_name": "Python 3",
   "language": "python",
   "name": "python3"
  },
  "language_info": {
   "codemirror_mode": {
    "name": "ipython",
    "version": 3
   },
   "file_extension": ".py",
   "mimetype": "text/x-python",
   "name": "python",
   "nbconvert_exporter": "python",
   "pygments_lexer": "ipython3",
   "version": "3.8.5"
  }
 },
 "nbformat": 4,
 "nbformat_minor": 4
}
