{
 "cells": [
  {
   "cell_type": "markdown",
   "id": "76f476fa",
   "metadata": {},
   "source": [
    "<img src=\"https://www.th-koeln.de/img/logo.svg\" style=\"float: right;\" width=\"200\">"
   ]
  },
  {
   "cell_type": "markdown",
   "id": "715c51a9",
   "metadata": {},
   "source": [
    "### Aufgabenstellung:\n",
    "\n",
    "Der Datensatz enthält Bilder verscheidener Hautkrebstypen in Partitionen. Diese sind  {gutartig, bösartig}. Entwickeln Sie einen Klassifikator, der die Bilder bestmöglich unterscheidet."
   ]
  },
  {
   "cell_type": "markdown",
   "id": "407c6290",
   "metadata": {},
   "source": [
    "* Julian Weß:11147769 \n",
    "* Benedikt Sellamier:11149478 \n",
    "* Jannick Kracht:11147753 \n",
    "* Cristina Riffarth:11147765"
   ]
  },
  {
   "cell_type": "markdown",
   "id": "501d741c",
   "metadata": {},
   "source": [
    "### Hypothese:\n",
    "Die Art der Pigmentierung in der Haut wird einen signifikanten Einfluss auf die Einstufung eines Hautkrebses als gutartig oder bösartig haben, unabhängig von Bildern die sich nicht gut verwenden lassen."
   ]
  },
  {
   "cell_type": "markdown",
   "id": "2165a641",
   "metadata": {},
   "source": [
    "### Beschreibung:\n",
    "\n",
    "Unser Datensatz beinhaltet Daten über Hautkrebs. Der Datensatz enthält Test und -Trainings Daten, welche jeweils unteretilt sind in bösartigen Hautkrebs und gutartigen.Der Datensatz mit den gutartigen beinhaltet 1800 Bilder, der Satz mit den bösartigen enthält 1797 Bilder. \n",
    "\n",
    "Ein Datensatz gilt als ausgewogen, wemm die Anzahl der Beobachtungen für jede Klasse (gutartig udn bösartig) ungefähr gleich ist. Somit lässt sich bei unserem Datensatz sagen, dass dieser ausgewpogen ist.\n",
    "\n",
    "Bei einer Analyse für einen Datensatz gibt es mehere Kriterien zu beachten, bevor man mit der Analyse beginnen kann. \n",
    "Als erstes ist es wichtig sicher zustellen, dass die Datenqualität gut ist, darunter fallen Sachen, wie, dass die Daten vollständig und konsisten sind. Da fehlende oder inkonsistente Daten die Analyse beeintröchtigen können, oder ungenaue Ergebnisse liefern.\n",
    "\n",
    "Wir haben unsere Daten angeschaut und gesehen, dass einige Bilder sich nicht gut matchen lassen werden, da dort Probleme sind, wie zum Beispile das das Bild aus einer agnz anderen Entfernung aufgenommen ist, oder teilweise Haare vor dem Bild sind, wordurch unser CNN schlechter abliefern kann. \n",
    "\n",
    "Als nächstes haben wir die Datenaufbereitet. Darunter gehört, dass man die Daten auf ungewöhliche oder Ausreißwerte überprüft und sie gegebenenfalls bereinigt. \n",
    "\n"
   ]
  },
  {
   "cell_type": "markdown",
   "id": "304fdb51",
   "metadata": {},
   "source": [
    "1. vertraut machen mit dem Datensatz \n",
    "2. ansacheun der Daten und überlegung der Umsatzung\n",
    "3. einteilung der aufgaben \n",
    "4. starten mit code\n",
    "5. besprechen der zwischen ergebnisse\n",
    "\n"
   ]
  },
  {
   "cell_type": "markdown",
   "id": "f7fa83c9",
   "metadata": {},
   "source": [
    "Read in the Data"
   ]
  },
  {
   "cell_type": "markdown",
   "id": "c158e1fa",
   "metadata": {},
   "source": [
    "Display Data"
   ]
  },
  {
   "cell_type": "markdown",
   "id": "1f8e2ad3",
   "metadata": {},
   "source": [
    "Dataset"
   ]
  },
  {
   "cell_type": "markdown",
   "id": "ff787f2f",
   "metadata": {},
   "source": [
    "The datsaset ist almost bananced. It has 1800 bening samples and 1700 malignant samples"
   ]
  },
  {
   "cell_type": "markdown",
   "id": "5ee09615",
   "metadata": {},
   "source": [
    "Traning Model"
   ]
  },
  {
   "cell_type": "markdown",
   "id": "583ddd8f",
   "metadata": {},
   "source": [
    "Testing Model"
   ]
  },
  {
   "cell_type": "markdown",
   "id": "296ba157",
   "metadata": {},
   "source": [
    "Conclsuion"
   ]
  },
  {
   "cell_type": "markdown",
   "id": "5103ee60",
   "metadata": {},
   "source": [
    "wir haben sachen ausprobiert und es geht nicht\n",
    "\n",
    "\n",
    "hypothese: wi rglauben wir haben probleme mit overfitting, daten sind schwer zu matchen, "
   ]
  },
  {
   "cell_type": "markdown",
   "id": "06a3f5c9",
   "metadata": {},
   "source": [
    "### Cross Validation:\n",
    "    \n",
    "Cross Validation ist ein Verfahren zum Tranieren von Machine-Learning-Modellen. cross valiadtion ist dafür da, den datensatz mir sich selbst zu prüfen, indem tempoär validations daten extraheirt werden. deswegen läuft es mehrmals druch. \n",
    "\n",
    "Wir haben uns für die k-fach Kreuzvalidierung (k-fold cross-validation) entschieden, die die Daten in k gleich große Teile aufteilt und jeden Teil als Testset verwendet, während die anderen Teile als Trainingsset verwendet werden.\n",
    "Sie wird verwendet, um das Risiko von \"overfitting\" (Überanpassung) zu verringern.\n"
   ]
  },
  {
   "cell_type": "markdown",
   "id": "3b49bfad",
   "metadata": {},
   "source": [
    "In diesem Fall wird der Datensatz in 70% Traning und 30% validation große Teile aufgeteilt und das Modell wird 3-mal trainiert und getestet. In jeder Iteration wird ein anderer Fold generiert und als Testset verwendet. Während die übrigen Daten als Trainingsset verwendet werden.\n",
    "\n",
    "Unser Ergebniss Wert bei der coss-validation war: 65 unn die schwankung war bei +-6%. Dieser Wert lässt darauf schließen, dass das Ergebniss der Kreuzvalidierung ein mittel guter Wert ist und auch gegenüber den vorherigen Modellen leider keine verbesserung darstellt."
   ]
  },
  {
   "cell_type": "markdown",
   "id": "024dd0b3",
   "metadata": {},
   "source": [
    "### Dropout:\n",
    "\n",
    "Dropout ist eine Technik, die in der tiefen neuronalen Netzwerk-Modellierung verwendet wird, um das Overfitting (Überanpassung) zu vermeiden. Es handelt sich dabei um eine Art regulärer Abschwächung, bei der während des Trainings zufällig ausgewählte Neuronen des Netzwerks \"abgeschaltet\" werden. Das bedeutet, dass die Aktivität dieser Neuronen während des Trainings bestimmte Neuronen im Netzwerk deaktiviert, indem ihre Aktivität auf Null gesetzt wird. Dadurch wird verhindert, dass bestimmte Neuronen zu stark auf die Trainingsdaten angepasst werden und das Modell generalisiert besser auf neue Daten. "
   ]
  },
  {
   "cell_type": "markdown",
   "id": "a46d4782",
   "metadata": {},
   "source": []
  }
 ],
 "metadata": {
  "kernelspec": {
   "display_name": "Python 3",
   "language": "python",
   "name": "python3"
  },
  "language_info": {
   "codemirror_mode": {
    "name": "ipython",
    "version": 3
   },
   "file_extension": ".py",
   "mimetype": "text/x-python",
   "name": "python",
   "nbconvert_exporter": "python",
   "pygments_lexer": "ipython3",
   "version": "3.7.10"
  }
 },
 "nbformat": 4,
 "nbformat_minor": 5
}
