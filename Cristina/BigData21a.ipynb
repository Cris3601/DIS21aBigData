{
 "cells": [
  {
   "cell_type": "markdown",
   "id": "76f476fa",
   "metadata": {},
   "source": [
    "<img src=\"https://www.th-koeln.de/img/logo.svg\" style=\"float: right;\" width=\"200\">"
   ]
  },
  {
   "cell_type": "markdown",
   "id": "715c51a9",
   "metadata": {},
   "source": [
    "### Aufgabenstellung:\n",
    "\n",
    "Der Datensatz enthält Bilder verscheidener Hautkrebstypen in Partitionen. Diese sind  {gutartig, bösartig}. Entwickeln Sie einen Klassifikator, der die Bilder bestmöglich unterscheidet."
   ]
  },
  {
   "cell_type": "markdown",
   "id": "407c6290",
   "metadata": {},
   "source": [
    "* Julian Weß: \n",
    "* Benedikt Sellamier:11149478 \n",
    "* Jannick Kracht:11147753 \n",
    "* Cristina Riffarth:11177765"
   ]
  },
  {
   "cell_type": "markdown",
   "id": "6e1bc00c",
   "metadata": {},
   "source": [
    "### Hypothese:\n",
    "Die Art der Pigmentierung in der Haut wird einen signifikanten Einfluss auf die Einstufung eines Hautkrebses als gutartig oder bösartig haben, unabhängig von Bildern die sich nicht gut verwenden lassen."
   ]
  },
  {
   "cell_type": "markdown",
   "id": "2165a641",
   "metadata": {},
   "source": [
    "### Description:\n",
    "\n",
    "Unser Datensatz beinhaltet Daten über Hautkrebs. Der Datensatz enthält Test und -Trainings Daten, welche jeweils unteretilt sind in bösartigen Hautkrebs und gutartigen.Der Datensatz mit den gutartigen beinhaltet 1800 Bilder, der Satz mit den bösartigen enthält 1700 Bilder. \n",
    "\n",
    "Ein Datensatz gilt als ausgewogen, wemm die Anzahl der Beobachtungen für jede Klasse (gutartig udn bösartig) ungefähr gleich ist. Somit lässt sich bei unserem Datensatz sagen, dass dieser ausgewpogen ist.\n",
    "\n",
    "Bei einer Analyse für einen Datensatz gibt es mehere Kreterien zu beachten, bevor man mit der Analyse beginnen kann. \n",
    "Als erstes ist es wichtig sicher zustellen, dass die Datenqualität gut ist, darunter fallen Sachen, wie, dass die Daten vollständig und konsisten sind. Da fehlende oder inkonsistente Daten die Analyse beeintröchtigen können, oder ungenaue Ergebnisse liefern.\n",
    "\n",
    "Wir haben unsere Daten angeschaut und gesehen, dass einige Bilder sich nicht gut matchen lassen werden, da dort Probleme sind, wie zum Beispile das das Bild aus einer agnz anderen Entfernung aufgenommen ist, oder teilweise Haare vor dem Bild sind, wordurch unser CNN schlechter abliefern kann. \n",
    "\n",
    "Als nächstes haben wir die Datenaufbereitet. Darunter gehört, dass man die Daten auf ungewöhliche oder Ausreißwerte überprüft und sie gegebenenfalls bereinigt. \n",
    "\n"
   ]
  },
  {
   "cell_type": "markdown",
   "id": "304fdb51",
   "metadata": {},
   "source": [
    "1. vertraut machen mit dem Datensatz \n",
    "2. ansacheun der Daten und überlegung der Umsatzung\n",
    "3. einteilung der aufgaben \n",
    "4. starten mit code\n",
    "5. besprechen der zwischen ergebnisse\n",
    "\n"
   ]
  },
  {
   "cell_type": "markdown",
   "id": "f7fa83c9",
   "metadata": {},
   "source": [
    "Read in the Data"
   ]
  },
  {
   "cell_type": "markdown",
   "id": "c158e1fa",
   "metadata": {},
   "source": [
    "Display Data"
   ]
  },
  {
   "cell_type": "markdown",
   "id": "1f8e2ad3",
   "metadata": {},
   "source": [
    "Dataset"
   ]
  },
  {
   "cell_type": "markdown",
   "id": "ff787f2f",
   "metadata": {},
   "source": [
    "The datsaset ist almost bananced. It has 1800 bening samples and 1700 malignant samples"
   ]
  },
  {
   "cell_type": "markdown",
   "id": "5ee09615",
   "metadata": {},
   "source": [
    "Traning Model"
   ]
  },
  {
   "cell_type": "markdown",
   "id": "583ddd8f",
   "metadata": {},
   "source": [
    "Testing Model"
   ]
  },
  {
   "cell_type": "markdown",
   "id": "296ba157",
   "metadata": {},
   "source": [
    "Conclsuion"
   ]
  },
  {
   "cell_type": "markdown",
   "id": "de073ff3",
   "metadata": {},
   "source": [
    "wir haben sachen ausprobiert und es geht nicht\n",
    "\n",
    "\n",
    "hypothese: wi rglauben wir haben probleme mit overfitting, daten sind schwer zu matchen, "
   ]
  },
  {
   "cell_type": "code",
   "execution_count": null,
   "id": "f955ae11",
   "metadata": {},
   "outputs": [],
   "source": []
  }
 ],
 "metadata": {
  "kernelspec": {
   "display_name": "Python 3",
   "language": "python",
   "name": "python3"
  },
  "language_info": {
   "codemirror_mode": {
    "name": "ipython",
    "version": 3
   },
   "file_extension": ".py",
   "mimetype": "text/x-python",
   "name": "python",
   "nbconvert_exporter": "python",
   "pygments_lexer": "ipython3",
   "version": "3.7.10"
  }
 },
 "nbformat": 4,
 "nbformat_minor": 5
}
